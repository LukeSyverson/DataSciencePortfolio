{
 "cells": [
  {
   "cell_type": "code",
   "execution_count": null,
   "id": "b510f0c5-8dc9-4f82-b1ed-18f3266e8bf5",
   "metadata": {},
   "outputs": [
    {
     "name": "stdout",
     "output_type": "stream",
     "text": [
      "<class 'pandas.core.frame.DataFrame'>\n",
      "RangeIndex: 9742 entries, 0 to 9741\n",
      "Data columns (total 3 columns):\n",
      " #   Column   Non-Null Count  Dtype \n",
      "---  ------   --------------  ----- \n",
      " 0   movieId  9742 non-null   int64 \n",
      " 1   title    9742 non-null   object\n",
      " 2   genres   9742 non-null   object\n",
      "dtypes: int64(1), object(2)\n",
      "memory usage: 228.5+ KB\n"
     ]
    }
   ],
   "source": [
    "from pathlib import Path\n",
    "import pandas as pd\n",
    "\n",
    "file = Path(\"../MovieSearch/movies.csv\")\n",
    "movies = pd.read_csv(file)\n",
    "movies.info()\n"
   ]
  },
  {
   "cell_type": "markdown",
   "id": "1077a4f2-2292-4d36-bbd9-6dc0b5bc5574",
   "metadata": {},
   "source": [
    "The data look good: no nulls and correct typing."
   ]
  },
  {
   "cell_type": "code",
   "execution_count": 2,
   "id": "a0b6c237-136a-4b33-8b36-b68d2636ecd2",
   "metadata": {},
   "outputs": [],
   "source": [
    "from sklearn.feature_extraction.text import TfidfVectorizer\n",
    "\n",
    "# init tf-idf, cleanse stop works (unlikely, but why not) and fit the vector to genre\n",
    "vectorizer = TfidfVectorizer(stop_words=\"english\")\n",
    "tfidf_matrix = vectorizer.fit_transform(movies[\"genres\"])\n"
   ]
  },
  {
   "cell_type": "code",
   "execution_count": 3,
   "id": "ce1adaeb-a086-4ede-990a-7d2a2e579f63",
   "metadata": {},
   "outputs": [],
   "source": [
    "from sklearn.metrics.pairwise import cosine_similarity\n",
    "\n",
    "# calc similarity scores\n",
    "cosine_sim = cosine_similarity(tfidf_matrix, tfidf_matrix)\n",
    "\n",
    "# map movie title: index & remove duplicates\n",
    "movie_indices = pd.Series(movies.index, index=movies[\"title\"]).drop_duplicates()\n"
   ]
  },
  {
   "cell_type": "code",
   "execution_count": 4,
   "id": "1b112278-8ca5-4ef5-aa14-5eb672410a22",
   "metadata": {},
   "outputs": [],
   "source": [
    "from thefuzz import process\n",
    "\n",
    "# I made too many typo's, so I pulled in a fuzzy matching algo\n",
    "def find_closest_movie(title, movie_list): # pass user input and set of movies to fn\n",
    "    closest_match = process.extractOne(title, movie_list)\n",
    "    if closest_match[1] > 70:  # arbitrary 70% confidence threshold\n",
    "        return closest_match[0]\n",
    "    else:\n",
    "        return None\n",
    "\n",
    "def recommend_movies(title, cosine_sim=cosine_sim): # input title and similarities\n",
    "    corrected_title = find_closest_movie(title, movies[\"title\"]) # deploy matching\n",
    "    if not corrected_title: # Reject incorrect. This needs a loop, but this is already extra.\n",
    "        return \"Movie not found. Try another title.\"\n",
    "    print(f\"Recommending for: {corrected_title}?\")\n",
    "\n",
    "    idx = movie_indices[corrected_title] # pull index for title\n",
    "    sim_scores = list(enumerate(cosine_sim[idx])) # get similarity scores for title\n",
    "    sim_scores = sorted(sim_scores, key=lambda x: x[1], reverse=True) # sort for similiarity (desc)\n",
    "    sim_scores = sim_scores[1:11] # store top-10 most similar (excluding itself)\n",
    "    movie_indices_recommended = [i[0] for i in sim_scores] # store top 10 indices and return titles\n",
    "    return movies[\"title\"].iloc[movie_indices_recommended]\n",
    "    "
   ]
  },
  {
   "cell_type": "code",
   "execution_count": 5,
   "id": "ba2deca5-2b8b-4a12-8a98-72d04b4566d7",
   "metadata": {},
   "outputs": [
    {
     "name": "stdout",
     "output_type": "stream",
     "text": [
      "Enter a movie title:  flibbertigibbet\n"
     ]
    },
    {
     "name": "stdout",
     "output_type": "stream",
     "text": [
      "Movie not found. Try another title.\n"
     ]
    }
   ],
   "source": [
    "# Let's test it with some gibberish\n",
    "user_input = input(\"Enter a movie title: \")\n",
    "print(recommend_movies(user_input))\n"
   ]
  },
  {
   "cell_type": "code",
   "execution_count": 6,
   "id": "c8d95cd6-75d1-42d4-b5b9-8a7204b08edd",
   "metadata": {},
   "outputs": [
    {
     "name": "stdout",
     "output_type": "stream",
     "text": [
      "Enter a movie title:  Blue\n"
     ]
    },
    {
     "name": "stdout",
     "output_type": "stream",
     "text": [
      "Recommending for: Blue in the Face (1995)?\n",
      "67                               Big Bully (1996)\n",
      "74                Antonia's Line (Antonia) (1995)\n",
      "85                  In the Bleak Midwinter (1995)\n",
      "94     Nobody Loves Me (Keiner liebt mich) (1994)\n",
      "129                       Blue in the Face (1995)\n",
      "143                                Jeffrey (1995)\n",
      "150                   Love & Human Remains (1993)\n",
      "164                                  Smoke (1995)\n",
      "173                        Unstrung Heroes (1995)\n",
      "186                       Boys on the Side (1995)\n",
      "Name: title, dtype: object\n"
     ]
    }
   ],
   "source": [
    "# OK, now with a better word\n",
    "user_input = input(\"Enter a movie title: \")\n",
    "print(recommend_movies(user_input))"
   ]
  },
  {
   "cell_type": "code",
   "execution_count": null,
   "id": "d65e5d2b-b6fb-4b72-976d-6541e7f09de0",
   "metadata": {},
   "outputs": [],
   "source": []
  }
 ],
 "metadata": {
  "kernelspec": {
   "display_name": "Python 3 (ipykernel)",
   "language": "python",
   "name": "python3"
  },
  "language_info": {
   "codemirror_mode": {
    "name": "ipython",
    "version": 3
   },
   "file_extension": ".py",
   "mimetype": "text/x-python",
   "name": "python",
   "nbconvert_exporter": "python",
   "pygments_lexer": "ipython3",
   "version": "3.11.4"
  }
 },
 "nbformat": 4,
 "nbformat_minor": 5
}
